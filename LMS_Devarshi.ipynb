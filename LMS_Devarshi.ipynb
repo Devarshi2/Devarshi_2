{
 "cells": [
  {
   "cell_type": "markdown",
   "metadata": {},
   "source": [
    "Fundamental of Excel"
   ]
  },
  {
   "cell_type": "markdown",
   "metadata": {},
   "source": [
    "Intro of Python"
   ]
  },
  {
   "cell_type": "markdown",
   "metadata": {},
   "source": [
    "Why Python ?"
   ]
  },
  {
   "cell_type": "code",
   "execution_count": 141,
   "metadata": {},
   "outputs": [],
   "source": [
    "#Beginner Friendly​\n",
    "#Used in Industry in Data Science​\n",
    "#Portable and Platform Independent​\n",
    "#Python is easy to learn and Understand​\n",
    "#No of line can be drastically decreased ​\n",
    "#Easy to debug and Less error prone​\n",
    "#Dynamically typed PL​\n",
    "#Interpreted​\n",
    "#Automatic memory management​\n",
    "#Free & Open Source​\n"
   ]
  },
  {
   "cell_type": "markdown",
   "metadata": {},
   "source": [
    "Application"
   ]
  },
  {
   "cell_type": "code",
   "execution_count": 142,
   "metadata": {},
   "outputs": [],
   "source": [
    "#Web Development​\n",
    "#Data Science and Machine Learning​\n",
    "#Scientific Computing​\n",
    "#Automation and Scripting​\n",
    "#Game Development​\n",
    "#Internet of Things (IoT)​\n",
    "#Finance​\n",
    "#Education​\n",
    "#Healthcare​\n",
    "#Natural Language Processing (NLP)"
   ]
  },
  {
   "cell_type": "markdown",
   "metadata": {},
   "source": [
    "Jupyter Notebook"
   ]
  },
  {
   "cell_type": "code",
   "execution_count": 143,
   "metadata": {},
   "outputs": [],
   "source": [
    "#Jupyter Notebook is a web-based tool for creating interactive documents that combine code, text, and visualizations.​\n",
    "\n",
    "#Installation: Install Jupyter Notebook using Anaconda​\n",
    "#Creating a New Notebook: Click “New” and choose “Python 3” to create a new notebook.​\n",
    "#Cell Types: Jupyter supports Code cells for Python code, Markdown cells for text, and Raw cells for unformatted content.​\n",
    "#Executing Code: Write code in Code cells and run it with Shift + Enter.​\n",
    "#Markdown Cells: Use Markdown cells for formatted text, and double-click to edit them.​"
   ]
  },
  {
   "cell_type": "markdown",
   "metadata": {},
   "source": [
    "Statements, Expressions, And Indentation​"
   ]
  },
  {
   "cell_type": "markdown",
   "metadata": {},
   "source": [
    "1.Statements​\n",
    "\n",
    "A statement is a complete line of code that performs a specific action. Examples include assignment statements, loop statements, conditional statements, and function calls.​"
   ]
  },
  {
   "cell_type": "markdown",
   "metadata": {},
   "source": [
    "Types of Statements:"
   ]
  },
  {
   "cell_type": "code",
   "execution_count": 144,
   "metadata": {},
   "outputs": [
    {
     "name": "stdout",
     "output_type": "stream",
     "text": [
      "Hello, World!\n",
      "x is not greater than 5\n",
      "0\n",
      "1\n",
      "2\n",
      "3\n",
      "4\n"
     ]
    }
   ],
   "source": [
    "#1. Assignment Statements: Assign a value to a variable.​\n",
    "\n",
    "x = 2\n",
    "\n",
    "#2.   Print Statements: Output information to the console.​\n",
    "\n",
    "print(\"Hello, World!\")\n",
    "\n",
    "#3.   Conditional Statements: Control the flow of execution based on conditions.​\n",
    "\n",
    "if x > 5:\n",
    "\n",
    "    print(\"x is greater than 5\")\n",
    "\n",
    "else:\n",
    "\n",
    "    print(\"x is not greater than 5\")\n",
    "\n",
    "#4.   Loop Statements: Execute a block of code repeatedly.​\n",
    "\n",
    "for i in range(5):\n",
    "\n",
    "    print(i)\n",
    "\n",
    "#Statements define the actions your program takes. They are executed sequentially, and the order of execution can be influenced by control flow statements (e.g., if statements, loops).​"
   ]
  },
  {
   "cell_type": "markdown",
   "metadata": {},
   "source": [
    "2.Expressions:"
   ]
  },
  {
   "cell_type": "markdown",
   "metadata": {},
   "source": [
    "An expression is a combination of values, variables, and operators that can be evaluated to produce a result. Expressions can be part of statements.​"
   ]
  },
  {
   "cell_type": "code",
   "execution_count": 145,
   "metadata": {},
   "outputs": [],
   "source": [
    "x = 5                   # 5 is an expression​\n",
    "\n",
    "y = x + 3             # x + 3 is an expression​"
   ]
  },
  {
   "cell_type": "markdown",
   "metadata": {},
   "source": [
    "In Python, almost everything is an expression, including arithmetic operations, function calls, and logical operations.​"
   ]
  },
  {
   "cell_type": "markdown",
   "metadata": {},
   "source": [
    "3.Indentation"
   ]
  },
  {
   "cell_type": "markdown",
   "metadata": {},
   "source": [
    "Indentation refers to the spaces or tabs at the beginning of a line of code. In Python, indentation is not just for readability; it is a syntactical element that defines the structure of your code. Indentation is used to group statements into blocks.​"
   ]
  },
  {
   "cell_type": "code",
   "execution_count": 146,
   "metadata": {},
   "outputs": [
    {
     "name": "stdout",
     "output_type": "stream",
     "text": [
      "x is not greater than 5\n"
     ]
    }
   ],
   "source": [
    "if x>5:\n",
    "    print(\"x is greater than 5\")\n",
    "else:\n",
    "    print(\"x is not greater than 5\")    "
   ]
  },
  {
   "cell_type": "markdown",
   "metadata": {},
   "source": [
    "Rules for Indentation:"
   ]
  },
  {
   "cell_type": "code",
   "execution_count": 147,
   "metadata": {},
   "outputs": [],
   "source": [
    "#Use consistent indentation throughout your code.​\n",
    "#The standard convention is to use four spaces for each level of indentation.​\n",
    "#Indentation is used to indicate the beginning and end of code blocks, such as those in loops and conditional statements.​"
   ]
  },
  {
   "cell_type": "markdown",
   "metadata": {},
   "source": [
    "Identifiers, Keywords & Comments​"
   ]
  },
  {
   "cell_type": "markdown",
   "metadata": {},
   "source": [
    "1.Identifiers:"
   ]
  },
  {
   "cell_type": "markdown",
   "metadata": {},
   "source": [
    "Identifiers are names given to entities in a Python program. These entities can be variables, functions, classes, modules, or any other user-defined objects. Identifiers are crucial for making your code readable and understandable.​"
   ]
  },
  {
   "cell_type": "markdown",
   "metadata": {},
   "source": [
    "Rules for Identifiers:"
   ]
  },
  {
   "cell_type": "markdown",
   "metadata": {},
   "source": [
    "Must begin with a letter (a-z, A-Z) or an underscore (_).​"
   ]
  },
  {
   "cell_type": "markdown",
   "metadata": {},
   "source": [
    "​The remaining characters can be letters, numbers, or underscores.​"
   ]
  },
  {
   "cell_type": "markdown",
   "metadata": {},
   "source": [
    "Case-sensitive (e.g., variable and Variable are different).​"
   ]
  },
  {
   "cell_type": "code",
   "execution_count": 148,
   "metadata": {},
   "outputs": [],
   "source": [
    "variable_name = 10\n",
    "\n",
    "function_name = lambda x: x * 2\n",
    "\n",
    "class ClassName: \n",
    "\n",
    "    pass"
   ]
  },
  {
   "cell_type": "markdown",
   "metadata": {},
   "source": [
    "Keywords"
   ]
  },
  {
   "cell_type": "markdown",
   "metadata": {},
   "source": [
    "Keywords are reserved words in Python that have special meanings and cannot be used as identifiers. They are part of the Python language syntax and serve specific purposes in the code.​"
   ]
  },
  {
   "cell_type": "markdown",
   "metadata": {},
   "source": [
    "Examples of Keywords:"
   ]
  },
  {
   "cell_type": "markdown",
   "metadata": {},
   "source": [
    "if, else, while, for, in, def, class, True, False, None, and, or, not, import, from, as, try, except, etc.​"
   ]
  },
  {
   "cell_type": "markdown",
   "metadata": {},
   "source": [
    "Python code to check Keywords"
   ]
  },
  {
   "cell_type": "code",
   "execution_count": 149,
   "metadata": {},
   "outputs": [
    {
     "name": "stdout",
     "output_type": "stream",
     "text": [
      "['False', 'None', 'True', 'and', 'as', 'assert', 'async', 'await', 'break', 'class', 'continue', 'def', 'del', 'elif', 'else', 'except', 'finally', 'for', 'from', 'global', 'if', 'import', 'in', 'is', 'lambda', 'nonlocal', 'not', 'or', 'pass', 'raise', 'return', 'try', 'while', 'with', 'yield']\n"
     ]
    }
   ],
   "source": [
    "import keyword \n",
    "\n",
    "print(keyword.kwlist)\n",
    "\n"
   ]
  },
  {
   "cell_type": "markdown",
   "metadata": {},
   "source": [
    "Comments:"
   ]
  },
  {
   "cell_type": "markdown",
   "metadata": {},
   "source": [
    "Comments are annotations in the code that are ignored by the Python interpreter. They are meant for human readers to add explanations, notes, or any information that can help them understand the code.​"
   ]
  },
  {
   "cell_type": "markdown",
   "metadata": {},
   "source": [
    "Type of Comments:"
   ]
  },
  {
   "cell_type": "markdown",
   "metadata": {},
   "source": [
    "1.Single-line Comments: Begin with # and extend to the end of the line.​"
   ]
  },
  {
   "cell_type": "markdown",
   "metadata": {},
   "source": [
    "2.Multi-line Comments: Enclosed between triple quotes (”’ or ”’) and can span multiple lines.​"
   ]
  },
  {
   "cell_type": "markdown",
   "metadata": {},
   "source": [
    "Variables in Python​:"
   ]
  },
  {
   "cell_type": "markdown",
   "metadata": {},
   "source": [
    "Variables in Python are used to store data values​"
   ]
  },
  {
   "cell_type": "markdown",
   "metadata": {},
   "source": [
    "Variable Declaration:"
   ]
  },
  {
   "cell_type": "code",
   "execution_count": 150,
   "metadata": {},
   "outputs": [],
   "source": [
    "name = \"Devarshi\"\n",
    "age = 21\n",
    "#Here, ‘name’ & ‘age’ are variables that store the values – “Devrashi” & 20 resp.​"
   ]
  },
  {
   "cell_type": "markdown",
   "metadata": {},
   "source": [
    "Variable Names Rules:"
   ]
  },
  {
   "cell_type": "code",
   "execution_count": 151,
   "metadata": {},
   "outputs": [],
   "source": [
    "#They can contain letters, digits, and underscores.​\n",
    "#They must start with a letter or an underscore (but not a digit).​\n",
    "#Variable names are case-sensitive.​\n",
    "#Avoid using Python keywords (reserved words) as variable names."
   ]
  },
  {
   "cell_type": "markdown",
   "metadata": {},
   "source": [
    "Multiple Assignments:"
   ]
  },
  {
   "cell_type": "markdown",
   "metadata": {},
   "source": [
    "x, y, z = 10, 20, 30​\n",
    "\n",
    "This assigns 10 to x, 20 to y, and 30 to z"
   ]
  },
  {
   "cell_type": "markdown",
   "metadata": {},
   "source": [
    "Variable Reuse:"
   ]
  },
  {
   "cell_type": "code",
   "execution_count": 152,
   "metadata": {},
   "outputs": [],
   "source": [
    "X = 5\n",
    "x = \"Hello\"\n",
    "#In this example, x initially holds an integer but is later assigned a string.​"
   ]
  },
  {
   "cell_type": "markdown",
   "metadata": {},
   "source": [
    "Data Types in Python​:"
   ]
  },
  {
   "cell_type": "markdown",
   "metadata": {},
   "source": [
    "Data type is a classification or categorization of data items that informs the compiler or interpreter how the programmer intends to use the data. ​"
   ]
  },
  {
   "cell_type": "markdown",
   "metadata": {},
   "source": [
    "It defines the kind of values that variables can take and the operations that can be performed on them.​"
   ]
  },
  {
   "cell_type": "code",
   "execution_count": 153,
   "metadata": {},
   "outputs": [],
   "source": [
    "#Category​                         -                      Data Types​\n",
    "#Text Type​\t                       -                      str​\n",
    "#Numeric Types​                    -                      int, float, complex​\n",
    "#Sequence Types​\t               -                      list, tuple, range​\n",
    "#Mapping Type                     -                   ​\t  dict​\n",
    "#Set Types​\t                       -                      set, frozenset​\n",
    "#Boolean Type​\t                   -                      bool​\n",
    "#Binary Types​\t                   -                      bytes, bytearray, memoryview​\n",
    "#None Type​\t                       -                      NoneType​ "
   ]
  },
  {
   "cell_type": "markdown",
   "metadata": {},
   "source": [
    "Fundamental Data Types\n",
    "\n"
   ]
  },
  {
   "cell_type": "code",
   "execution_count": 154,
   "metadata": {},
   "outputs": [],
   "source": [
    "#Fundamental Data Type​\t            Description​\t                                            Example\n",
    "\n",
    "#Integer (int)                     Represents whole numbers​                                   Whole nu.\n",
    "#Float (float)                     Represents numbers with a decimal point​                     1.5.25\n",
    "#Complex (complex)                 Represents complex number​                                   z = 3 + 4j ​Where 3 is the real part, and 4 is the imaginary part​\n",
    "#Boolean (bool)                    Represents Boolean values (True or False)​                   True or False\n",
    "#None Type (None)                  Represents the absence of a value​                           None"
   ]
  },
  {
   "cell_type": "markdown",
   "metadata": {},
   "source": [
    "Derived Data Types"
   ]
  },
  {
   "cell_type": "code",
   "execution_count": 155,
   "metadata": {},
   "outputs": [],
   "source": [
    "#Derived Data Type              Description                                                                 Example\n",
    "\n",
    "#String(str)                    Represents sequences of characters​                                          greeting = “Hello, World!”​\n",
    "#List(List)                     Represents ordered collections of items​                                     fruits = [“apple”, “banana”, “cherry”]​\n",
    "#Tuple(tuple)                   Represents immutable ordered collections of items​                           person_info = (“John”, 30, “New York”)​\n",
    "#Dictionary(dict)               Represents dictionaries, which are collections of key-value pairs.​          person = {“name”: “John”, “age”: 30, “city”: “New York”}​\n",
    "#Set(set)                       Represents unordered collections of unique elements​\t                     myset = {“apple”, “banana”, “cherry”}​\n"
   ]
  },
  {
   "cell_type": "markdown",
   "metadata": {},
   "source": [
    "Fundamental Data Types"
   ]
  },
  {
   "cell_type": "markdown",
   "metadata": {},
   "source": [
    "A) Integer (int)​:\n",
    "\n",
    "An integer is a numerical data type that represents whole numbers. It does not include fractions or decimal points.​"
   ]
  },
  {
   "cell_type": "code",
   "execution_count": 156,
   "metadata": {},
   "outputs": [
    {
     "name": "stdout",
     "output_type": "stream",
     "text": [
      "<class 'int'>\n",
      "2644707967504\n"
     ]
    }
   ],
   "source": [
    "a = 10\n",
    "\n",
    "print(type(a))                  # To check the data type of a ​\n",
    "\n",
    "print(id(a))                       # To check the id of a"
   ]
  },
  {
   "cell_type": "markdown",
   "metadata": {},
   "source": [
    "Integer Caches: Python caches a range of small integers (typically from -5 to 256)​​"
   ]
  },
  {
   "cell_type": "code",
   "execution_count": 157,
   "metadata": {},
   "outputs": [
    {
     "name": "stdout",
     "output_type": "stream",
     "text": [
      "True\n",
      "2644707968528 2644707968528\n"
     ]
    }
   ],
   "source": [
    "a = 42\n",
    "\n",
    "b = 42\n",
    "\n",
    "print(a is b)                    # gives True​​\n",
    "\n",
    "print(id(a), id(b))           # id of both a & b is same  ​"
   ]
  },
  {
   "cell_type": "code",
   "execution_count": 158,
   "metadata": {},
   "outputs": [
    {
     "name": "stdout",
     "output_type": "stream",
     "text": [
      "False\n",
      "2644707968528 2644707968528\n"
     ]
    }
   ],
   "source": [
    "x = 257\n",
    "\n",
    "y = 256\n",
    "\n",
    "print(x is y)                    # gives False​\n",
    "\n",
    "print(id(a), id(b))           # id of both a & b is same  ​"
   ]
  },
  {
   "cell_type": "markdown",
   "metadata": {},
   "source": [
    "B) Float (float)​\n",
    "\n",
    "Floats are used to represent real numbers.​"
   ]
  },
  {
   "cell_type": "code",
   "execution_count": 159,
   "metadata": {},
   "outputs": [
    {
     "name": "stdout",
     "output_type": "stream",
     "text": [
      "<class 'float'>\n",
      "2644806335984\n"
     ]
    }
   ],
   "source": [
    "a = 1.5\n",
    "\n",
    "print(type(a))        # To check the data type of a​\n",
    "\n",
    "print(id(a))            # To check the id of a​\n",
    "\n",
    "#Floats in Python are implemented as IEEE 754 double-precision floating-point numbers, which provide approximately 15-17 significant digits of precision​"
   ]
  },
  {
   "cell_type": "markdown",
   "metadata": {},
   "source": [
    "C) Complex​\n",
    "\n",
    "Complex numbers in Python are written as a+bj, where a is the real part, and b is the imaginary part​"
   ]
  },
  {
   "cell_type": "code",
   "execution_count": 160,
   "metadata": {},
   "outputs": [
    {
     "name": "stdout",
     "output_type": "stream",
     "text": [
      "<class 'complex'>\n",
      "2644807681872\n"
     ]
    }
   ],
   "source": [
    "z = 3 + 4j                # Where 3 is the real part, and 4 is the imaginary part.​\n",
    "\n",
    "print(type(z))            # To check the data type of a​      \n",
    "print(id(z))              #To check the id of a\n",
    "\n",
    "#Used in AC (circuit analysis), signal processing, and quantum mechanics."
   ]
  },
  {
   "cell_type": "markdown",
   "metadata": {},
   "source": [
    "D) Boolean (bool)​\n",
    "\n",
    "Booleans are primarily used for logical operations and conditions.​"
   ]
  },
  {
   "cell_type": "code",
   "execution_count": 161,
   "metadata": {},
   "outputs": [
    {
     "name": "stdout",
     "output_type": "stream",
     "text": [
      "True <class 'bool'>\n",
      "False <class 'bool'>\n"
     ]
    }
   ],
   "source": [
    "a = bool(20)\n",
    "\n",
    "print(a, type(a))\n",
    "#True <class ‘bool’> ​\n",
    "\n",
    "b = bool(0)\n",
    "\n",
    "print(b, type(b))\n",
    "\n",
    "# False <class ‘bool’>​\n",
    "\n",
    "#Used extensively in conditional statements, loops, and logical operations​"
   ]
  },
  {
   "cell_type": "markdown",
   "metadata": {},
   "source": [
    "E) NoneType (None)​\n",
    "\n",
    "NoneType is a special data type in Python that has only one value: None. ​\n",
    "It is used to represent the absence of a value or a null value. ​\n",
    "When a variable or a function returns None, it typically signifies that there is no valid data or no meaningful result.​\n",
    "\n",
    "result = None \n",
    "\n",
    "In this example, the variable result is assigned the value None, indicating that it has not been assigned a meaningful value or result yet.​"
   ]
  },
  {
   "cell_type": "markdown",
   "metadata": {},
   "source": [
    "​Derived Data Type​\n",
    "\n",
    "A) List"
   ]
  },
  {
   "cell_type": "markdown",
   "metadata": {},
   "source": [
    "A list in Python is a versatile and mutable data structure that can store a collection of items. Lists are defined by enclosing elements in square brackets [ ] and are ordered, meaning that the order of elements is maintained.\n",
    "\n",
    "Example:"
   ]
  },
  {
   "cell_type": "code",
   "execution_count": 162,
   "metadata": {},
   "outputs": [],
   "source": [
    "my_list = [1, 2, 3, 'apple', 'banana', True]\n"
   ]
  },
  {
   "cell_type": "markdown",
   "metadata": {},
   "source": [
    "Methods:\n",
    "\n"
   ]
  },
  {
   "cell_type": "markdown",
   "metadata": {},
   "source": [
    "1.append(): Adds an element to the end of the list"
   ]
  },
  {
   "cell_type": "code",
   "execution_count": 163,
   "metadata": {},
   "outputs": [],
   "source": [
    "my_list.append('Orange')"
   ]
  },
  {
   "cell_type": "markdown",
   "metadata": {},
   "source": [
    "2.remove(): Removes the first occurrence of a specified element from the list"
   ]
  },
  {
   "cell_type": "code",
   "execution_count": 164,
   "metadata": {},
   "outputs": [
    {
     "name": "stdout",
     "output_type": "stream",
     "text": [
      "None\n"
     ]
    }
   ],
   "source": [
    "B = my_list.remove(2)\n",
    "print(B)"
   ]
  },
  {
   "cell_type": "markdown",
   "metadata": {},
   "source": [
    "B) Tuple"
   ]
  },
  {
   "cell_type": "markdown",
   "metadata": {},
   "source": [
    "A tuple is a collection similar to a list, but it is immutable, meaning its elements cannot be changed after creation. Tuples are defined by enclosing elements in parentheses ( ).\n",
    "\n",
    "Example:"
   ]
  },
  {
   "cell_type": "code",
   "execution_count": 165,
   "metadata": {},
   "outputs": [],
   "source": [
    "my_tuple = (1, 2, 'apple', 'banana', True)"
   ]
  },
  {
   "cell_type": "markdown",
   "metadata": {},
   "source": [
    "Methods:\n",
    "\n",
    "1.count(): Returns the number of occurrences of a specified element in the tuple."
   ]
  },
  {
   "cell_type": "code",
   "execution_count": 166,
   "metadata": {},
   "outputs": [
    {
     "name": "stdout",
     "output_type": "stream",
     "text": [
      "1\n"
     ]
    }
   ],
   "source": [
    "count_apple = my_tuple.count('apple')\n",
    "print(count_apple)"
   ]
  },
  {
   "cell_type": "markdown",
   "metadata": {},
   "source": [
    "2.index(): Returns the index of the first occurrence of a specified element in the tuple"
   ]
  },
  {
   "cell_type": "code",
   "execution_count": 167,
   "metadata": {},
   "outputs": [
    {
     "name": "stdout",
     "output_type": "stream",
     "text": [
      "3\n"
     ]
    }
   ],
   "source": [
    "index_banana = my_tuple.index('banana')\n",
    "print(index_banana)"
   ]
  },
  {
   "cell_type": "markdown",
   "metadata": {},
   "source": [
    "C) Dictionary\n",
    "\n",
    "A dictionary is an unordered collection of key-value pairs. Each key must be unique, and values can be of any data type. Dictionaries are defined by enclosing key-value pairs in curly braces { }.\n",
    "\n",
    "Example:"
   ]
  },
  {
   "cell_type": "code",
   "execution_count": 168,
   "metadata": {},
   "outputs": [],
   "source": [
    "my_dict = {'name': 'John', 'age': 25, 'city': 'New York'}"
   ]
  },
  {
   "cell_type": "markdown",
   "metadata": {},
   "source": [
    "Methods:\n",
    "\n",
    "1.get(): Returns the value for a specified key. If the key is not found, it returns a default value (or None if not provided)."
   ]
  },
  {
   "cell_type": "code",
   "execution_count": 169,
   "metadata": {},
   "outputs": [
    {
     "name": "stdout",
     "output_type": "stream",
     "text": [
      "25\n"
     ]
    }
   ],
   "source": [
    "age = my_dict.get(\"age\")\n",
    "print(age)"
   ]
  },
  {
   "cell_type": "markdown",
   "metadata": {},
   "source": [
    "2.pop(): Removes the item with the specified key and returns its value."
   ]
  },
  {
   "cell_type": "code",
   "execution_count": 170,
   "metadata": {},
   "outputs": [
    {
     "name": "stdout",
     "output_type": "stream",
     "text": [
      "25\n"
     ]
    }
   ],
   "source": [
    "A = my_dict.pop('age')\n",
    "print(A)"
   ]
  },
  {
   "cell_type": "markdown",
   "metadata": {},
   "source": [
    "D) Set\n",
    "\n",
    "A set is an unordered collection of unique elements. Sets are defined by enclosing elements in curly braces { }.\n",
    "\n",
    "Example:"
   ]
  },
  {
   "cell_type": "code",
   "execution_count": 171,
   "metadata": {},
   "outputs": [],
   "source": [
    "my_set = {1,2,\"apple\",\"banana\",\"True\"}"
   ]
  },
  {
   "cell_type": "markdown",
   "metadata": {},
   "source": [
    "Methods:\n",
    "\n",
    "1.add(): Adds an element to the set. If the element is already present, the set remains unchanged"
   ]
  },
  {
   "cell_type": "code",
   "execution_count": 172,
   "metadata": {},
   "outputs": [],
   "source": [
    "my_set.add(\"orange\")"
   ]
  },
  {
   "cell_type": "markdown",
   "metadata": {},
   "source": [
    "2.remove(): Removes the specified element from the set. Raises a KeyError if the element is not present."
   ]
  },
  {
   "cell_type": "code",
   "execution_count": 173,
   "metadata": {},
   "outputs": [],
   "source": [
    "my_set.remove(\"True\")"
   ]
  },
  {
   "cell_type": "markdown",
   "metadata": {},
   "source": [
    "Strings in Python​:\n",
    "\n",
    "\n",
    "In Python, a string is a sequence of characters, and it is one of the fundamental data types in the language. ​\n",
    "Strings are used to represent text and are treated as immutable sequences of Unicode code points.​\n",
    "Strings can be declared using either single quotes (‘ ’) or double quotes (“ ”).​\n",
    "\n",
    "For example:​\n",
    "\n",
    "single_quoted = ‘Hello, World!’​\n",
    "\n",
    "double_quoted = “Python is great!“​\n",
    "\n",
    "triple_quoted = ”’This is a ​\n",
    "   multi-line string.”’​\n",
    "\n",
    "\n",
    "\n",
    "\n",
    "\n",
    "\n",
    "\n",
    "\n",
    "\n",
    "Operation on String:\n",
    "\n",
    "A) String Concatenation: You can concatenate (combine) strings using the + operator.​\n",
    "\n",
    "first_name = “John”​\n",
    "\n",
    "last_name = “Doe”​\n",
    "\n",
    "full_name = first_name + ” ” + last_name   –>  “John Doe“​\n",
    "\n",
    "​\n",
    "B) String Length: You can find the length of a string using the len() function​\n",
    "\n",
    "text = “Python”​\n",
    "\n",
    "length = len(text) –>  6​\n",
    "\n",
    "C) String Indexing: Strings are zero-indexed, meaning the first character has an index of 0, the second character has an index of 1, and so on.​"
   ]
  },
  {
   "cell_type": "markdown",
   "metadata": {},
   "source": [
    "Positive indexing = Left to Right\n",
    "\n",
    "\n",
    "ex:         P   Y   T   H   O   N\n",
    "\n",
    "\n",
    "            0   1   2   3   4   5.......\n",
    "\n",
    "\n",
    "Negative indexing = Right to Left\n",
    "\n",
    "\n",
    "ex:               P   Y   T   H   O   N\n",
    "\n",
    "\n",
    "            .....-6  -5  -4  -3  -2  -1"
   ]
  },
  {
   "cell_type": "markdown",
   "metadata": {},
   "source": [
    "Example:​\n",
    "\n",
    "text = “Python”​\n",
    "\n",
    "first_char = text[0]   “P” (first character)​\n",
    "\n",
    "third_char = text[2]   “t” (third character)​\n",
    "\n",
    "\n",
    "\n",
    "\n",
    "\n",
    "\n",
    "\n",
    "\n",
    "D) String Slicing: Slicing allows you to extract a portion (substring) of a string by specifying a range of indices.​\n",
    "\n",
    "The syntax for slicing is string[start:end:steps], where start is the index of the first character you want to include, and end is the index of the first character you want to exclude.​\n",
    "\n",
    "Example: +ve indexing​\n",
    "\n",
    "text = “Python”​\n",
    "\n",
    "sliced_text = text[1:4]​\n",
    "\n",
    "—> “yth“ (from index 1 to 3)​\n",
    "\n",
    "Example: -ve indexing​\n",
    "\n",
    "text = “Python”​\n",
    "\n",
    "sliced_text = text[-3:-1]​\n",
    "\n",
    "—> “th” (from the third-to-last to the second-to-last character))​"
   ]
  },
  {
   "cell_type": "markdown",
   "metadata": {},
   "source": [
    "String Methods​\n",
    "\n",
    "1. Conversion Methods:\n",
    "\n",
    "str(): Converts an object into a string representation.​"
   ]
  },
  {
   "cell_type": "code",
   "execution_count": 174,
   "metadata": {},
   "outputs": [
    {
     "data": {
      "text/plain": [
       "str"
      ]
     },
     "execution_count": 174,
     "metadata": {},
     "output_type": "execute_result"
    }
   ],
   "source": [
    "num = 20\n",
    "str_num = str(num)\n",
    "#type(num)\n",
    "type(str_num)"
   ]
  },
  {
   "cell_type": "markdown",
   "metadata": {},
   "source": [
    "int(), float(), complex(): Converts a string to an integer, float, or complex number.​"
   ]
  },
  {
   "cell_type": "code",
   "execution_count": 175,
   "metadata": {},
   "outputs": [
    {
     "data": {
      "text/plain": [
       "int"
      ]
     },
     "execution_count": 175,
     "metadata": {},
     "output_type": "execute_result"
    }
   ],
   "source": [
    "num_1 = 10.02\n",
    "int_num = int(num_1)\n",
    "type(int_num)"
   ]
  },
  {
   "cell_type": "markdown",
   "metadata": {},
   "source": [
    "2.   Case Conversion Methods:​\n",
    "\n",
    "upper(): Converts all characters in a string to uppercase.​\n",
    "\n",
    "\n",
    "lower(): Converts all characters in a string to lowercase.​\n",
    "\n",
    "\n",
    "capitalize(): Capitalizes the first character of a string.​\n",
    "\n",
    "\n",
    "title(): Converts the first character of each word to uppercase.​\n"
   ]
  },
  {
   "cell_type": "code",
   "execution_count": 176,
   "metadata": {},
   "outputs": [
    {
     "data": {
      "text/plain": [
       "'MY NAME IS DEVARSHI'"
      ]
     },
     "execution_count": 176,
     "metadata": {},
     "output_type": "execute_result"
    }
   ],
   "source": [
    "text = \"My name is Devarshi\"\n",
    "text.upper()\n"
   ]
  },
  {
   "cell_type": "code",
   "execution_count": 177,
   "metadata": {},
   "outputs": [
    {
     "data": {
      "text/plain": [
       "'my name is devarshi'"
      ]
     },
     "execution_count": 177,
     "metadata": {},
     "output_type": "execute_result"
    }
   ],
   "source": [
    "text.lower()"
   ]
  },
  {
   "cell_type": "code",
   "execution_count": 178,
   "metadata": {},
   "outputs": [
    {
     "data": {
      "text/plain": [
       "'My name is devarshi'"
      ]
     },
     "execution_count": 178,
     "metadata": {},
     "output_type": "execute_result"
    }
   ],
   "source": [
    "text.capitalize()"
   ]
  },
  {
   "cell_type": "code",
   "execution_count": 179,
   "metadata": {},
   "outputs": [
    {
     "data": {
      "text/plain": [
       "'My Name Is Devarshi'"
      ]
     },
     "execution_count": 179,
     "metadata": {},
     "output_type": "execute_result"
    }
   ],
   "source": [
    "text.title()\n"
   ]
  },
  {
   "cell_type": "markdown",
   "metadata": {},
   "source": [
    "3.   Stripping Methods:​\n",
    "\n",
    "strip(): Removes leading and trailing whitespace from a string.​\n",
    "\n",
    "\n",
    "lstrip(): Removes leading whitespace.​\n",
    "\n",
    "\n",
    "rstrip(): Removes trailing whitespace.​"
   ]
  },
  {
   "cell_type": "code",
   "execution_count": 180,
   "metadata": {},
   "outputs": [
    {
     "data": {
      "text/plain": [
       "'My fevourite colour is White . Which is very look like beautiful!!!'"
      ]
     },
     "execution_count": 180,
     "metadata": {},
     "output_type": "execute_result"
    }
   ],
   "source": [
    "My_words = \"   My fevourite colour is White . Which is very look like beautiful!!!   \"\n",
    "\n",
    "My_words.strip()"
   ]
  },
  {
   "cell_type": "code",
   "execution_count": 181,
   "metadata": {},
   "outputs": [
    {
     "data": {
      "text/plain": [
       "'My fevourite colour is White . Which is very look like beautiful!!!   '"
      ]
     },
     "execution_count": 181,
     "metadata": {},
     "output_type": "execute_result"
    }
   ],
   "source": [
    "My_words.lstrip()"
   ]
  },
  {
   "cell_type": "code",
   "execution_count": 182,
   "metadata": {},
   "outputs": [
    {
     "data": {
      "text/plain": [
       "'   My fevourite colour is White . Which is very look like beautiful!!!'"
      ]
     },
     "execution_count": 182,
     "metadata": {},
     "output_type": "execute_result"
    }
   ],
   "source": [
    "My_words.rstrip()"
   ]
  },
  {
   "cell_type": "markdown",
   "metadata": {},
   "source": [
    "4.   Search and Replace Methods​\n",
    "\n",
    "find(): Returns the lowest index of a substring (or -1 if not found).​\n",
    "\n",
    "\n",
    "index(): Similar to find() but raises an exception if the substring is not found.​\n",
    "\n",
    "\n",
    "replace(): Replaces occurrences of a substring with another string.​"
   ]
  },
  {
   "cell_type": "code",
   "execution_count": 183,
   "metadata": {},
   "outputs": [
    {
     "data": {
      "text/plain": [
       "26"
      ]
     },
     "execution_count": 183,
     "metadata": {},
     "output_type": "execute_result"
    }
   ],
   "source": [
    "My_words.find(\"White\")"
   ]
  },
  {
   "cell_type": "code",
   "execution_count": 184,
   "metadata": {},
   "outputs": [
    {
     "data": {
      "text/plain": [
       "-1"
      ]
     },
     "execution_count": 184,
     "metadata": {},
     "output_type": "execute_result"
    }
   ],
   "source": [
    "My_words.find(\"Red\")"
   ]
  },
  {
   "cell_type": "code",
   "execution_count": 185,
   "metadata": {},
   "outputs": [
    {
     "data": {
      "text/plain": [
       "26"
      ]
     },
     "execution_count": 185,
     "metadata": {},
     "output_type": "execute_result"
    }
   ],
   "source": [
    "My_words.index(\"White\")"
   ]
  },
  {
   "cell_type": "code",
   "execution_count": 186,
   "metadata": {},
   "outputs": [
    {
     "ename": "ValueError",
     "evalue": "substring not found",
     "output_type": "error",
     "traceback": [
      "\u001b[1;31m---------------------------------------------------------------------------\u001b[0m",
      "\u001b[1;31mValueError\u001b[0m                                Traceback (most recent call last)",
      "Cell \u001b[1;32mIn[186], line 1\u001b[0m\n\u001b[1;32m----> 1\u001b[0m \u001b[43mMy_words\u001b[49m\u001b[38;5;241;43m.\u001b[39;49m\u001b[43mindex\u001b[49m\u001b[43m(\u001b[49m\u001b[38;5;124;43m\"\u001b[39;49m\u001b[38;5;124;43mRed\u001b[39;49m\u001b[38;5;124;43m\"\u001b[39;49m\u001b[43m)\u001b[49m\n",
      "\u001b[1;31mValueError\u001b[0m: substring not found"
     ]
    }
   ],
   "source": [
    "My_words.index(\"Red\")"
   ]
  },
  {
   "cell_type": "code",
   "execution_count": null,
   "metadata": {},
   "outputs": [
    {
     "data": {
      "text/plain": [
       "'   My fevourite colour is White . Which is very look like peaceful!!!   '"
      ]
     },
     "execution_count": 140,
     "metadata": {},
     "output_type": "execute_result"
    }
   ],
   "source": [
    "My_words.replace(\"beautiful\",\"peaceful\")"
   ]
  },
  {
   "cell_type": "markdown",
   "metadata": {},
   "source": [
    "5.   Counting Methods​\n",
    "\n",
    "count(): Returns the number of occurrences of a substring in a string.​"
   ]
  },
  {
   "cell_type": "code",
   "execution_count": null,
   "metadata": {},
   "outputs": [
    {
     "data": {
      "text/plain": [
       "2"
      ]
     },
     "execution_count": 139,
     "metadata": {},
     "output_type": "execute_result"
    }
   ],
   "source": [
    "My_words.count(\"is\")"
   ]
  },
  {
   "cell_type": "markdown",
   "metadata": {},
   "source": [
    "6.   Checking Methods:​\n",
    "\n",
    "startswith(): Checks if a string starts with a specified prefix.​\n",
    "\n",
    "\n",
    "endswith(): Checks if a string ends with a specified suffix.​\n",
    "\n",
    "\n",
    "isalpha(): Checks if all characters in a string are alphabetic.​\n",
    "\n",
    "\n",
    "isdigit(): Checks if all characters in a string are digits.​\n",
    "\n",
    "\n",
    "isalnum(): Checks if all characters in a string are alphanumeric.​"
   ]
  },
  {
   "cell_type": "code",
   "execution_count": 190,
   "metadata": {},
   "outputs": [
    {
     "data": {
      "text/plain": [
       "False"
      ]
     },
     "execution_count": 190,
     "metadata": {},
     "output_type": "execute_result"
    }
   ],
   "source": [
    "A = \"The Indian Air Force\"\n",
    "A.startswith(\"Indian\")"
   ]
  },
  {
   "cell_type": "code",
   "execution_count": 191,
   "metadata": {},
   "outputs": [
    {
     "data": {
      "text/plain": [
       "True"
      ]
     },
     "execution_count": 191,
     "metadata": {},
     "output_type": "execute_result"
    }
   ],
   "source": [
    "A.startswith(\"The\")"
   ]
  },
  {
   "cell_type": "code",
   "execution_count": 192,
   "metadata": {},
   "outputs": [
    {
     "data": {
      "text/plain": [
       "True"
      ]
     },
     "execution_count": 192,
     "metadata": {},
     "output_type": "execute_result"
    }
   ],
   "source": [
    "A.endswith(\"Force\")"
   ]
  },
  {
   "cell_type": "code",
   "execution_count": 200,
   "metadata": {},
   "outputs": [
    {
     "data": {
      "text/plain": [
       "False"
      ]
     },
     "execution_count": 200,
     "metadata": {},
     "output_type": "execute_result"
    }
   ],
   "source": [
    "A.isalpha()"
   ]
  },
  {
   "cell_type": "code",
   "execution_count": 201,
   "metadata": {},
   "outputs": [
    {
     "data": {
      "text/plain": [
       "False"
      ]
     },
     "execution_count": 201,
     "metadata": {},
     "output_type": "execute_result"
    }
   ],
   "source": [
    "A.isdigit()"
   ]
  },
  {
   "cell_type": "code",
   "execution_count": 198,
   "metadata": {},
   "outputs": [
    {
     "data": {
      "text/plain": [
       "False"
      ]
     },
     "execution_count": 198,
     "metadata": {},
     "output_type": "execute_result"
    }
   ],
   "source": [
    "A.isalnum()"
   ]
  },
  {
   "cell_type": "markdown",
   "metadata": {},
   "source": [
    "7.   Splitting and Joining Methods​\n",
    "\n",
    "split(): Splits a string into a list of substrings based on a specified delimiter.\n",
    "\n",
    "​\n",
    "join(): Concatenates a list of strings into one string using a specified delimiter.​"
   ]
  },
  {
   "cell_type": "code",
   "execution_count": 202,
   "metadata": {},
   "outputs": [
    {
     "data": {
      "text/plain": [
       "['The', 'Indian', 'Air', 'Force']"
      ]
     },
     "execution_count": 202,
     "metadata": {},
     "output_type": "execute_result"
    }
   ],
   "source": [
    "A.split()"
   ]
  },
  {
   "cell_type": "code",
   "execution_count": 209,
   "metadata": {},
   "outputs": [
    {
     "data": {
      "text/plain": [
       "'1The Indian Air Force2The Indian Air Force3'"
      ]
     },
     "execution_count": 209,
     "metadata": {},
     "output_type": "execute_result"
    }
   ],
   "source": [
    "A.join(\"1\" \"2\" \"3\")"
   ]
  },
  {
   "cell_type": "markdown",
   "metadata": {},
   "source": [
    "8.   Formatting Methods​\n",
    "\n",
    "format(): Formats a string by replacing placeholders with values.​\n",
    "\n",
    "\n",
    "format_map(): Similar to format() but takes a mapping (a dictionary) as its argument.​"
   ]
  },
  {
   "cell_type": "code",
   "execution_count": 4,
   "metadata": {},
   "outputs": [],
   "source": [
    "name = \"Devrashi\"\n",
    "Hobby = \"Horse ridding\"\n",
    "formating = \"My name is {} , and my Hobby is {}.\".format(name,Hobby)"
   ]
  },
  {
   "cell_type": "markdown",
   "metadata": {},
   "source": [
    "Type Casting & Conversion​"
   ]
  },
  {
   "cell_type": "code",
   "execution_count": 3,
   "metadata": {},
   "outputs": [],
   "source": [
    "#1. bool(): Converts an object to a Boolean value.​\n",
    "\n",
    "value = 0\n",
    "\n",
    "bool_value = bool(value)\n",
    "\n",
    "#2. list(): Converts an iterable (e.g., tuple, string, or set) to a list.​\n",
    "\n",
    "my_tuple = (1, 2, 3)\n",
    "\n",
    "my_list = list(my_tuple)\n",
    "\n",
    "#3. tuple(): Converts an iterable to a tuple.​\n",
    "\n",
    "my_list = [1, 2, 3]\n",
    "\n",
    "my_tuple = tuple(my_list)\n",
    "\n",
    "#4. set(): Converts an iterable to a set.​\n",
    "\n",
    "my_list = [1, 2, 3, 3]\n",
    "\n",
    "my_set = set(my_list)\n",
    "\n",
    "\n",
    "\n",
    "\n",
    "\n",
    "\n",
    "#In Python, type casting and conversion refer to the process of changing the data type of a variable from one type to another.​\n",
    "\n",
    "\n",
    "#1. int(): Converts a number or a string containing a whole number to an integer.​\n",
    "\n",
    "num_str = \"123\"\n",
    "\n",
    "num_float = int(num_str)\n",
    "\n",
    "#2. float(): Converts a number or a string containing a number to a floating-point number.​\n",
    "\n",
    "num_str = \"123.45\"\n",
    "\n",
    "num_float = float(num_str)\n",
    "\n",
    "#3. str(): Converts an object to a string.​\n",
    "\n",
    "num_int = 123\n",
    "\n",
    "num_str = str(num_int)\n",
    "\n",
    "#4. dict(): Converts a sequence of key-value pairs as tuples into a dictionary.​\n",
    "\n",
    "my_list = [('a', 1), ('b', 2)]\n",
    "\n",
    "my_dict = dict(my_list)\n",
    "\n",
    "#5. ord() and chr(): Convert a character to its Unicode code point and vice versa.​\n",
    "\n",
    "char = 'A'\n",
    "\n",
    "unicode_value = ord(char)\n",
    "\n",
    "char_again = chr(unicode_value)"
   ]
  },
  {
   "cell_type": "markdown",
   "metadata": {},
   "source": [
    "Operators in Python"
   ]
  },
  {
   "cell_type": "markdown",
   "metadata": {},
   "source": [
    "A) Arithmetic Operators\n",
    "\n",
    "\n",
    "B) Comparision Operators\n",
    "\n",
    "\n",
    "C) Logical Operators\n",
    "\n",
    "\n",
    "D) Bitwise Operators\n",
    "\n",
    "\n",
    "E) Assignment OPerators\n",
    "\n",
    "\n",
    "F) Membership Operators"
   ]
  },
  {
   "cell_type": "markdown",
   "metadata": {},
   "source": [
    "A) Arithmetic Operators\n",
    "\n",
    "1. Addition +: Adds two numbers together."
   ]
  },
  {
   "cell_type": "code",
   "execution_count": 2,
   "metadata": {},
   "outputs": [
    {
     "name": "stdout",
     "output_type": "stream",
     "text": [
      "8\n"
     ]
    }
   ],
   "source": [
    "Result = 5+3\n",
    "print(Result)"
   ]
  },
  {
   "cell_type": "markdown",
   "metadata": {},
   "source": [
    "2. Subtraction -: Subtracts the right operand from the left operand.\n",
    "\n",
    "result = 10 – 4 # result is 6\n",
    "\n",
    "3. Multiplication *: Multiplies two numbers.\n",
    "\n",
    "result = 3 * 4 # result is 12\n",
    "\n",
    "4. Division /: Divides the left operand by the right operand.\n",
    "\n",
    "result = 20 / 5 # result is 4.0 (float)\n",
    "\n",
    "5. Modulus %: Returns the remainder of the division of the left operand by the right operand.p\n",
    "\n",
    "result = 17 % 5 # result is 2\n",
    "\n",
    "6. Exponentiation **: Raises the left operand to the power of the right operand.\n",
    "\n",
    "result = 2 ** 3 # result is 8\n",
    "\n",
    "These operators are fundamental for performing mathematical calculations in Python. You can use them in expressions to manipulate numerical data."
   ]
  },
  {
   "cell_type": "markdown",
   "metadata": {},
   "source": [
    "\n",
    "\n",
    "\n",
    "\n",
    "\n",
    "B) Comparison Operator\n",
    "\n",
    "​1. Equal to ==: Checks if the values of two operands are equal.\n",
    "\n",
    "result = (5 == 5) # result is True\n",
    "\n",
    "2. Not equal to !=: Checks if the values of two operands are not equal.\n",
    "\n",
    "result = (5 != 3) # result is True\n",
    "\n",
    "3. Greater than >: Checks if the value of the left operand is greater than the value of the right operand.\n",
    "\n",
    "result = (10 > 5) # result is True\n",
    "\n",
    "4. Less than <: Checks if the value of the left operand is less than the value of the right operand.\n",
    "\n",
    "result = (3 < 8) # result is True\n",
    "\n",
    "5. Greater than or equal to >=: Checks if the value of the left operand is greater than or equal to the value of the right operand.\n",
    "\n",
    "result = (7 >= 7) # result is True\n",
    "\n",
    "6. Less than or equal to <=: Checks if the value of the left operand is less than or equal to the value of the right operand.\n",
    "\n",
    "result = (4 <= 6) # result is True\n",
    "\n",
    "\n",
    "\n",
    "\n",
    "\n",
    "\n",
    "C) Assignment Operators​\n",
    "\n",
    "1. Assignment =: Assigns the value on the right to the variable on the left.\n",
    "\n",
    "x = 10 # x is assigned the value 10\n",
    "\n",
    "2. Addition assignment +=: Adds the value on the right to the current value of the variable on the left and assigns the result to the variable on the left.\n",
    "\n",
    "x = 5\n",
    "x += 3 # equivalent to x = x + 3, so x is now 8\n",
    "\n",
    "3. Subtraction assignment -=: Subtracts the value on the right from the current value of the variable on the left and assigns the result to the variable on the left.\n",
    "\n",
    "x = 10\n",
    "x -= 4 # equivalent to x = x – 4, so x is now 6\n",
    "\n",
    "4. Multiplication assignment *=: Multiplies the current value of the variable on the left by the value on the right and assigns the result to the variable on the left.\n",
    "\n",
    "x = 3\n",
    "x *= 2 # equivalent to x = x * 2, so x is now 6\n",
    "\n",
    "5. Division assignment /=: Divides the current value of the variable on the left by the value on the right and assigns the result to the variable on the left.\n",
    "\n",
    "x = 8\n",
    "x /= 2 # equivalent to x = x / 2, so x is now 4.0 (float)\n",
    "\n",
    "6. Modulus assignment %=: Takes the modulus of the current value of the variable on the left with the value on the right and assigns the result to the variable on the left.\n",
    "\n",
    "x = 10\n",
    "x %= 3 # equivalent to x = x % 3, so x is now 1\n",
    "\n",
    "\n",
    "\n",
    "\n",
    "\n",
    "\n",
    "\n",
    "D) Logical Operators​\n",
    "\n",
    "1. Logical AND (and): Returns True if both the operands on the left and right are \"True\"; otherwise, it returns \"False“.\n",
    "\n",
    "result = (True and False) # result is False\n",
    "\n",
    "2. Logical OR (or): Returns True if at least one of the operands on the left or right is \"True\"; returns False if both are \"False\".\n",
    "\n",
    "result = (True or False) # result is True\n",
    "\n",
    "3. Logical NOT (not): Returns \"True\" if the operand is \"False\", and vice versa.\n",
    "\n",
    "result = not True # result is False\n",
    "\n",
    "\n",
    "\n",
    "\n",
    "\n",
    "\n",
    "\n",
    "\n",
    "E) Membership Operators\n",
    "\n",
    "1. Membership (in): Returns \"True\" if a value exists in the specified sequence; otherwise, it returns \"False\".\n",
    "\n",
    "result = 3 in [1, 2, 3, 4] # result is True\n",
    "\n",
    "2. Not In (not in): Returns \"True\" if a value does not exist in the specified sequence; otherwise, it returns \"False\".\n",
    "\n",
    "result = 5 not in [1, 2, 3, 4] # result is True\n",
    "\n",
    "\n",
    "\n",
    "\n",
    "\n",
    "\n",
    "\n",
    "\n",
    "F) Bitwise Operators\n",
    "\n",
    "Bitwise operators perform operations at the binary level, manipulating individual bits of binary representations of integers. To understand how these operators work, let’s briefly review the binary representation of numbers.\n",
    "\n",
    "In the binary system, each digit (bit) can only be 0 or 1. The decimal number 5, for example, is represented as “101” in binary:\n",
    "\n",
    "Decimal: 5\n",
    "Binary: 101\n",
    "\n",
    "Bitwise operators operate on these binary representations, performing operations bit by bit. Let’s take an example using the bitwise AND (&) operator:\n",
    "\n",
    "a = 5 # binary: 101\n",
    "b = 3 # binary: 011\n",
    "\n",
    "result = a & b\n",
    "\n",
    "The binary representation of a is 101, and the binary representation of b is 011. The bitwise AND operation is performed on each pair of corresponding bits:\n",
    "\n",
    "\n",
    "So, the result of a & b is 1 in binary, which is equal to the decimal number 1.\n",
    "\n",
    "Similar logic applies to other bitwise operators.\n",
    "\n",
    "1. Bitwise AND (&): Performs a bitwise AND operation on the corresponding bits of two integers.\n",
    "\n",
    "result = 5 & 3 # result is 1\n",
    "\n",
    "2. Bitwise OR (|): Performs a bitwise OR operation on the corresponding bits of two integers.\n",
    "\n",
    "result = 5 | 3 # result is 7\n",
    "\n",
    "3. Bitwise XOR (^): Performs a bitwise XOR (exclusive OR) operation on the corresponding bits of two integers.\n",
    "\n",
    "result = 5 ^ 3 # result is 6\n",
    "\n",
    "4. Bitwise NOT(~): Inverts the bits of an integer, changing 1s to 0s and vice versa.\n",
    "\n",
    "result = ~5 # result is -6 (due to two’s complement representation)\n",
    "\n",
    "5. Left Shift <<: Shifts the bits of an integer to the left by a specified number of positions, filling in with zeros.\n",
    "\n",
    "result = 5 << 1 # result is 10 (binary 101 shifted left by 1 position)"
   ]
  },
  {
   "cell_type": "markdown",
   "metadata": {},
   "source": [
    "Loops & Functions"
   ]
  },
  {
   "cell_type": "markdown",
   "metadata": {},
   "source": [
    "Conditional Statements: if, elif, else"
   ]
  },
  {
   "cell_type": "markdown",
   "metadata": {},
   "source": [
    "Conditional Statements​\n",
    "\n",
    "1. if Statement\n",
    "\n",
    "The ‘if’ statement is used to execute a block of code only if a certain condition is true.​\n",
    "Syntax:​\n",
    "\n",
    "if condition:​\n",
    "\n",
    "    # code to execute if condition is true"
   ]
  },
  {
   "cell_type": "code",
   "execution_count": 13,
   "metadata": {},
   "outputs": [
    {
     "name": "stdout",
     "output_type": "stream",
     "text": [
      "Result found\n"
     ]
    }
   ],
   "source": [
    "x = 20\n",
    "\n",
    "if x>10: \n",
    "    print(\"Result found\")"
   ]
  },
  {
   "cell_type": "markdown",
   "metadata": {},
   "source": [
    "2. If-else Statement:\n",
    "\n",
    "The ‘if-else’ statement allows us to execute one block of code if a condition is true and another block if it’s false.​\n",
    "Syntax:​\n",
    "\n",
    "if condition:​\n",
    "\n",
    "    # code to execute if condition is true​\n",
    "\n",
    "else:​\n",
    "\n",
    "    # code to execute if condition is false"
   ]
  },
  {
   "cell_type": "code",
   "execution_count": 15,
   "metadata": {},
   "outputs": [
    {
     "name": "stdout",
     "output_type": "stream",
     "text": [
      "Improper result\n"
     ]
    }
   ],
   "source": [
    "x = 5\n",
    "y = 10\n",
    "if x>y:\n",
    "    print(\"Proper result\")\n",
    "else:\n",
    "    print(\"Improper result\")"
   ]
  },
  {
   "cell_type": "markdown",
   "metadata": {},
   "source": [
    "3.   If—elif-else Statement:\n",
    "\n",
    "if-elif-else’ statement is used when we have multiple conditions to check.​\n",
    "Syntax:\n",
    "\n",
    "if condition1:​\n",
    "\n",
    "    # code to execute if condition1 is true​\n",
    "\n",
    "elif condition2:​\n",
    "\n",
    "    # code to execute if condition2 is true​\n",
    "\n",
    "else:​\n",
    "\n",
    "    # code to execute if none of the conditions are true"
   ]
  },
  {
   "cell_type": "code",
   "execution_count": 23,
   "metadata": {},
   "outputs": [
    {
     "ename": "SyntaxError",
     "evalue": "invalid syntax (1170833486.py, line 4)",
     "output_type": "error",
     "traceback": [
      "\u001b[1;36m  Cell \u001b[1;32mIn[23], line 4\u001b[1;36m\u001b[0m\n\u001b[1;33m    if b include a:\u001b[0m\n\u001b[1;37m         ^\u001b[0m\n\u001b[1;31mSyntaxError\u001b[0m\u001b[1;31m:\u001b[0m invalid syntax\n"
     ]
    }
   ],
   "source": [
    "a = \"My name is Devarshi\"\n",
    "b = \"My fev colour is White\"\n",
    "\n",
    "if b include a:\n",
    "    print(\"True\")\n",
    "elif:\n",
    "    print(\"false\")\n",
    "else:\n",
    "    print(\"none\")"
   ]
  },
  {
   "cell_type": "markdown",
   "metadata": {},
   "source": [
    "4. Nested Conditional Statements​\n",
    "\n",
    "You can nest conditional statements inside other conditional statements.​\n",
    "\n",
    "This allows for complex decision-making in your programs.​\n",
    "\n",
    "Practice Questions\n",
    "\n",
    "Question 1 (if statement): ​\n",
    "\n",
    "Write a Python program that checks if a given number is positive and prints a corresponding message.​\n",
    "\n",
    "Solution"
   ]
  },
  {
   "cell_type": "code",
   "execution_count": 10,
   "metadata": {},
   "outputs": [],
   "source": [
    "num = int(input(\"Enter a Number: \"))\n",
    "if num >0:\n",
    "    print(\"num is positive\")"
   ]
  },
  {
   "cell_type": "markdown",
   "metadata": {},
   "source": [
    "Question 2 (if-else statement): ​\n",
    "\n",
    "Create a Python program that determines whether a person is eligible to vote based on their age.​\n",
    "\n",
    "Solution"
   ]
  },
  {
   "cell_type": "code",
   "execution_count": 12,
   "metadata": {},
   "outputs": [
    {
     "name": "stdout",
     "output_type": "stream",
     "text": [
      "you are not eligible for vote\n"
     ]
    }
   ],
   "source": [
    "age = int(input(\"Enter your age: \"))\n",
    "if age >=18:\n",
    "    print(\"you are eligible for vote\")\n",
    "else:\n",
    "    print(\"you are not eligible for vote\")"
   ]
  },
  {
   "cell_type": "markdown",
   "metadata": {},
   "source": [
    "Question 3 (if-elif-else statement): ​\n",
    "\n",
    "Write a Python program that categorizes a student’s grade based on their test score.​\n",
    "\n",
    "Solution"
   ]
  },
  {
   "cell_type": "code",
   "execution_count": 16,
   "metadata": {},
   "outputs": [
    {
     "name": "stdout",
     "output_type": "stream",
     "text": [
      "your grade is A\n"
     ]
    }
   ],
   "source": [
    "score = int(input(\"Enter your score\"))\n",
    "if score >=90:\n",
    "    print(\"your grade is A\")\n",
    "elif score >=80:\n",
    "    print(\"your grade is B\")\n",
    "elif score>=70:\n",
    "    print(\"your grade is C\")\n",
    "elif score >=60:\n",
    "    print(\"your grade is D\")\n",
    "elif score >=50:\n",
    "    print(\"your grade is E\")\n",
    "else:\n",
    "    print(\"you are not qualify \")"
   ]
  },
  {
   "cell_type": "markdown",
   "metadata": {},
   "source": [
    "Question 4 (Nested conditional statements): ​\n",
    "\n",
    "Create a Python program that checks if a given number is even and positive, even and negative, odd and positive, or odd and negative.​\n",
    "\n",
    "Solution"
   ]
  },
  {
   "cell_type": "code",
   "execution_count": 19,
   "metadata": {},
   "outputs": [
    {
     "name": "stdout",
     "output_type": "stream",
     "text": [
      "the num is zero\n"
     ]
    }
   ],
   "source": [
    "num =int(input(\"Enter your num\"))\n",
    "if num>0:\n",
    "    if num % 2 == 0:\n",
    "        print(\"the num is even and positive.\")\n",
    "    else:\n",
    "        print(\"the num is odd and positive.\")\n",
    "elif num<0:\n",
    "    if num % 2 == 0:\n",
    "        print(\"the num is even and negative.\")\n",
    "    else:\n",
    "        print(\"the num is odd and negative.\")\n",
    "else:\n",
    "    print(\"the num is zero\")"
   ]
  },
  {
   "cell_type": "markdown",
   "metadata": {},
   "source": [
    "Input Function: \n",
    "\n",
    "The input() function is used to take user input from the keyboard. It reads a line of text entered by the user and returns it as a string. Here’s the basic syntax of the input() function:​\n",
    "Example:​\n",
    "\n",
    "name = input(“Please enter your name: “)​\n",
    "\n",
    "print(“Hello, ” + name + “!”)  # Prints a greeting using the user’s input​\n",
    "\n",
    "Keep in mind that input() always returns a string, so if you want to use the user’s input as a number, you’ll need to convert it using functions like int() or float().​\n",
    "\n",
    "age_str = input(“Please enter your age: “)​\n",
    "\n",
    "age = int(age_str)  # Convert the string input to an integer​\n",
    "\n",
    "print(“You will be ” + str(age + 1) + ” years old next year.”)​\n",
    "\n",
    "Question: Write a Python program that asks the user for their favorite color using the input() function and then prints a message saying, “Your favorite color is [color].” Replace [color] with the color entered by the user.​\n",
    "\n",
    "Solution"
   ]
  },
  {
   "cell_type": "code",
   "execution_count": 30,
   "metadata": {},
   "outputs": [
    {
     "name": "stdout",
     "output_type": "stream",
     "text": [
      "my Fev colour is : White \n"
     ]
    }
   ],
   "source": [
    "# Get user input for their favorite color​\n",
    "\n",
    "user_color = input(\"What is your favorite color? \")\n",
    "\n",
    "# Print a message using the user's favorite color​\n",
    "print(f\"my Fev colour is : {user_color} \" )\n"
   ]
  },
  {
   "cell_type": "markdown",
   "metadata": {},
   "source": [
    "Loops in Python: For, While​"
   ]
  },
  {
   "cell_type": "markdown",
   "metadata": {},
   "source": [
    "The while Loop​\n",
    "\n",
    "The while loop is used to repeatedly execute a block of code as long as a specified condition is true.​\n",
    "\n",
    "Syntax:​\n",
    "\n",
    "while condition:​\n",
    "\n",
    "    # Code to execute while the condition is true​\n",
    "\n",
    "Example:​\n"
   ]
  },
  {
   "cell_type": "code",
   "execution_count": 32,
   "metadata": {},
   "outputs": [
    {
     "name": "stdout",
     "output_type": "stream",
     "text": [
      "0\n",
      "1\n",
      "2\n",
      "3\n",
      "4\n"
     ]
    }
   ],
   "source": [
    "count = 0\n",
    "\n",
    "while count < 5:\n",
    "\n",
    "    print(count)\n",
    "\n",
    "    count += 1"
   ]
  },
  {
   "cell_type": "markdown",
   "metadata": {},
   "source": [
    "The for Loop​\n",
    "\n",
    "The for loop is used to iterate over a sequence (e.g., a list, tuple, string, or range) and execute a block of code for each item in the sequence.​\n",
    "\n",
    "Syntax:​\n",
    "\n",
    "for variable in sequence:​\n",
    "\n",
    "    # Code to execute for each item in the sequence​\n",
    "\n",
    "Example:​"
   ]
  },
  {
   "cell_type": "code",
   "execution_count": 33,
   "metadata": {},
   "outputs": [
    {
     "name": "stdout",
     "output_type": "stream",
     "text": [
      "apple\n",
      "banana\n",
      "cherry\n"
     ]
    }
   ],
   "source": [
    "fruits = [\"apple\", \"banana\", \"cherry\"]\n",
    "\n",
    "for fruit in fruits:\n",
    "\n",
    "    print(fruit)"
   ]
  },
  {
   "cell_type": "markdown",
   "metadata": {},
   "source": [
    "Loop Control Statements:\n"
   ]
  },
  {
   "cell_type": "markdown",
   "metadata": {},
   "source": [
    "1. break statement: The break statement is used to exit a loop prematurely. It terminates the execution of the innermost loop that encloses it.​"
   ]
  },
  {
   "cell_type": "code",
   "execution_count": null,
   "metadata": {},
   "outputs": [],
   "source": []
  }
 ],
 "metadata": {
  "kernelspec": {
   "display_name": "Python 3",
   "language": "python",
   "name": "python3"
  },
  "language_info": {
   "codemirror_mode": {
    "name": "ipython",
    "version": 3
   },
   "file_extension": ".py",
   "mimetype": "text/x-python",
   "name": "python",
   "nbconvert_exporter": "python",
   "pygments_lexer": "ipython3",
   "version": "3.10.10"
  }
 },
 "nbformat": 4,
 "nbformat_minor": 2
}
